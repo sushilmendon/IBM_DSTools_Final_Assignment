{
 "cells": [
  {
   "cell_type": "markdown",
   "id": "9a14a8bb-75d9-4613-9382-c5f466053d47",
   "metadata": {},
   "source": [
    "# Data Science Tools and Ecosystem "
   ]
  },
  {
   "cell_type": "markdown",
   "id": "b0e66b0f-ebc8-43f8-b326-aefea05f8738",
   "metadata": {},
   "source": [
    "In this notebook, Data Science Tools and Ecosystem are summarized."
   ]
  },
  {
   "cell_type": "markdown",
   "id": "5a888754-dde3-4f0c-97d6-da810f43fc8a",
   "metadata": {},
   "source": [
    "**Objectives:**\n",
    "- Popular Language for Data Science\n",
    "- Commonly used Data Science Libraries\n",
    "- Data Science Tools\n",
    "- Simple Arithmetic Expression\n",
    "- Time Conversion"
   ]
  },
  {
   "cell_type": "markdown",
   "id": "716f254e-a441-4f29-9a05-fab551bfda9f",
   "metadata": {},
   "source": [
    "Some of the popular languages that Data Scientists use are:\n",
    "\n",
    "1. Python\n",
    "2. R\n",
    "3. SQL\n",
    "4. Java\n",
    "5. Scala\n",
    "6. C++\n",
    "7. Javascript\n",
    "8. Julia"
   ]
  },
  {
   "cell_type": "markdown",
   "id": "7b77d220-c9fb-4289-aab4-db8a2ef6ddef",
   "metadata": {},
   "source": [
    "Some of the commonly used libraries used by Data Scientists include:\n",
    "1. Pandas\n",
    "2. NumPy\n",
    "3. SciPy\n",
    "4. Matplotlib\n",
    "5. TensorFlow\n",
    "6. PyTorch\n",
    "7. Keras\n",
    "8. Scikit-learn\n",
    "9. dplyr\n",
    "10. stringr\n",
    "11. ggplot\n",
    "12. ggplot"
   ]
  },
  {
   "cell_type": "markdown",
   "id": "2195fb9d-fc60-4fa0-bfaf-6cf24a9907c3",
   "metadata": {},
   "source": [
    "Open-Source Data Science tools\n",
    "\n",
    "| Data Science Tools |\n",
    "|--------------------|\n",
    "| Jupyter Notebook |\n",
    "| RStudio |\n",
    "| Anaconda Navigator |  "
   ]
  },
  {
   "cell_type": "markdown",
   "id": "1835c064-862d-4130-a53d-5a251a994e74",
   "metadata": {},
   "source": [
    "### Below are a few examples of evaluating arithmetic expressions in Python"
   ]
  },
  {
   "cell_type": "code",
   "execution_count": 1,
   "id": "47aff6dd-8c0f-42d1-ad6c-b24583a949c9",
   "metadata": {
    "tags": []
   },
   "outputs": [
    {
     "data": {
      "text/plain": [
       "17"
      ]
     },
     "execution_count": 1,
     "metadata": {},
     "output_type": "execute_result"
    }
   ],
   "source": [
    "# This a simple arithmetic expression to mutiply then add integers\n",
    "\n",
    "(3*4)+5"
   ]
  },
  {
   "cell_type": "code",
   "execution_count": 2,
   "id": "000947d3-be92-4ca8-b097-075f1c3f3ca7",
   "metadata": {
    "tags": []
   },
   "outputs": [
    {
     "data": {
      "text/plain": [
       "3.3333333333333335"
      ]
     },
     "execution_count": 2,
     "metadata": {},
     "output_type": "execute_result"
    }
   ],
   "source": [
    "# This will convert 200 minutes to hours by diving by 60\n",
    "\n",
    "200 / 60"
   ]
  },
  {
   "cell_type": "markdown",
   "id": "4d32e058-1a75-4b42-acc4-6be5b6ab4b70",
   "metadata": {},
   "source": [
    "## Author\n",
    "Sushil Mendon"
   ]
  },
  {
   "cell_type": "code",
   "execution_count": null,
   "id": "559e387f-021d-4b57-a6db-4fadb7a7a01f",
   "metadata": {},
   "outputs": [],
   "source": []
  }
 ],
 "metadata": {
  "kernelspec": {
   "display_name": "Python",
   "language": "python",
   "name": "conda-env-python-py"
  },
  "language_info": {
   "codemirror_mode": {
    "name": "ipython",
    "version": 3
   },
   "file_extension": ".py",
   "mimetype": "text/x-python",
   "name": "python",
   "nbconvert_exporter": "python",
   "pygments_lexer": "ipython3",
   "version": "3.7.12"
  }
 },
 "nbformat": 4,
 "nbformat_minor": 5
}
